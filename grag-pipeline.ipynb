{
 "cells": [
  {
   "cell_type": "code",
   "execution_count": 2,
   "id": "c3424a1a",
   "metadata": {},
   "outputs": [
    {
     "name": "stderr",
     "output_type": "stream",
     "text": [
      "c:\\Users\\ebade\\.conda\\envs\\sysml\\Lib\\site-packages\\tqdm\\auto.py:21: TqdmWarning: IProgress not found. Please update jupyter and ipywidgets. See https://ipywidgets.readthedocs.io/en/stable/user_install.html\n",
      "  from .autonotebook import tqdm as notebook_tqdm\n"
     ]
    }
   ],
   "source": [
    "import rdflib\n",
    "from rdflib import Graph, Namespace\n",
    "from sentence_transformers import SentenceTransformer\n",
    "import faiss\n",
    "import numpy as np\n",
    "from openai import OpenAI"
   ]
  },
  {
   "cell_type": "code",
   "execution_count": 3,
   "id": "628d64f6",
   "metadata": {},
   "outputs": [],
   "source": [
    "TTL_PATH = \"cache/sysml_model_477e1397-b094-4b94-a097-2cf8218d3110.ttl\"\n",
    "FAISS_INDEX_PATH = \"cache/faiss.index\"\n",
    "EMBEDDING_MODEL = \"sentence-transformers/all-MiniLM-L6-v2\"\n",
    "OPENAI_MODEL = \"gpt-4.1\"\n",
    "\n",
    "client = OpenAI()\n",
    "\n",
    "# Namespaces\n",
    "SYSML = Namespace(\"http://example.org/sysml#\")"
   ]
  },
  {
   "cell_type": "code",
   "execution_count": 5,
   "id": "8b85a027",
   "metadata": {},
   "outputs": [],
   "source": [
    "def load_graph(path: str) -> Graph:\n",
    "    g = Graph()\n",
    "    g.parse(path, format=\"ttl\")\n",
    "    return g"
   ]
  },
  {
   "cell_type": "code",
   "execution_count": 6,
   "id": "355e53e9",
   "metadata": {},
   "outputs": [],
   "source": [
    "def extract_snippets(g: Graph) -> dict:\n",
    "    snippets = {}\n",
    "    for s in set(g.subjects()):\n",
    "        label = g.value(subject=s, predicate=SYSML.label)\n",
    "        comment = g.value(subject=s, predicate=SYSML.comment)\n",
    "        type  = g.value(subject=s, predicate=SYSML.type)\n",
    "        package = g.value(subject=s, predicate=SYSML.package)\n",
    "\n",
    "        \n",
    "        # neighbors\n",
    "        neigh = [str(o) for o in g.objects(subject=s)] + [str(s) for s,_,_ in g.triples((None, None, s))]\n",
    "        text = \"\"\n",
    "\n",
    "        if label:\n",
    "            label = label.replace('\"', '').replace(\"'\", \"\")\n",
    "            text += f\"Label: {label}, \"\n",
    "\n",
    "        if package:\n",
    "            package_label = g.value(subject=package, predicate=SYSML.label)\n",
    "            if package_label:\n",
    "                text += f\"Package: {package_label}, \"\n",
    "        \n",
    "        if type: \n",
    "            type = type.replace('\"', '').replace(\"'\", \"\")\n",
    "            text += f\"Type: {type}, \"\n",
    "\n",
    "        if comment:\n",
    "            comment = comment.replace('\"', '').replace(\"'\", \"\")\n",
    "            text += f\"Comment: {comment}, \"\n",
    "        \n",
    "        if len(neigh) > 0:\n",
    "            # edge to neighbors and their labels\n",
    "            neigh_text = \", \".join([f\"{n} ({g.value(subject=n, predicate=SYSML.label)})\" for n in neigh])\n",
    "            text += f\"Neighbors: [{neigh_text}, ]\"\n",
    "            \n",
    "        text.replace(\"(None)\", \"\")\n",
    "        text.replace(\"http://example.org/sysml#\", \"\")\n",
    "        key = str(s).replace(\"http://example.org/sysml#\", \"\").replace(\"http://example.org/\", \"\")\n",
    "\n",
    "        snippets[key] = text\n",
    "    return snippets"
   ]
  },
  {
   "cell_type": "code",
   "execution_count": 7,
   "id": "51312dc6",
   "metadata": {},
   "outputs": [],
   "source": [
    "def build_vector_index(snippets: dict, model_name: str, index_path: str):\n",
    "    model = SentenceTransformer(model_name)\n",
    "    texts = list(snippets.values())\n",
    "    embeddings = model.encode(texts, convert_to_numpy=True)\n",
    "\n",
    "    norms = np.linalg.norm(embeddings, axis=1, keepdims=True)\n",
    "    embeddings = embeddings / norms\n",
    "\n",
    "    dim = embeddings.shape[1]\n",
    "    index = faiss.IndexFlatIP(dim)\n",
    "    index.add(embeddings)\n",
    "\n",
    "    faiss.write_index(index, index_path)\n",
    "\n",
    "    return model, index, list(snippets.keys())"
   ]
  },
  {
   "cell_type": "code",
   "execution_count": 8,
   "id": "b1707cdd",
   "metadata": {},
   "outputs": [],
   "source": [
    "def retrieve_nodes(query: str, model: SentenceTransformer, index: faiss.IndexFlatL2, uris: list, threshold: float = 0.8, sort = False) -> list:\n",
    "    q_emb = model.encode([query], convert_to_numpy=True)\n",
    "    q_emb = q_emb / np.linalg.norm(q_emb, axis=1, keepdims=True)\n",
    "\n",
    "    lims, D, I = index.range_search(q_emb, threshold)\n",
    "\n",
    "    start, end = lims[0], lims[1]\n",
    "    matched_idxs = I[start:end]\n",
    "\n",
    "    if sort:\n",
    "        # Sort by distance\n",
    "        distances = D[start:end]\n",
    "        sorted_idxs = np.argsort(distances)[::-1]\n",
    "\n",
    "    return [uris[i] for i in matched_idxs]"
   ]
  },
  {
   "cell_type": "code",
   "execution_count": 9,
   "id": "ed2cd0bf",
   "metadata": {},
   "outputs": [],
   "source": [
    "def fetch_subgraph(s_parsed: list, g: Graph) -> Graph:\n",
    "    sub = Graph()\n",
    "    for uri in s_parsed:\n",
    "        # outgoing\n",
    "        for p,o in g.predicate_objects(subject=rdflib.URIRef(uri)):\n",
    "            sub.add((rdflib.URIRef(uri), p, o))\n",
    "        # incoming\n",
    "        for s,p in g.subject_predicates(object=rdflib.URIRef(uri)):\n",
    "            sub.add((s, p, rdflib.URIRef(uri)))\n",
    "    return sub"
   ]
  },
  {
   "cell_type": "code",
   "execution_count": 10,
   "id": "ac636e8b",
   "metadata": {},
   "outputs": [],
   "source": [
    "def serialize_subgraph(sub: Graph) -> str:\n",
    "    lines = []\n",
    "    for s,p,o in sub:\n",
    "        lines.append(f\"- {s.split('#')[-1]} {p.split('#')[-1]} {o.split('#')[-1]}\")\n",
    "    return \"\\n\".join(lines)"
   ]
  },
  {
   "cell_type": "code",
   "execution_count": 11,
   "id": "64ab5d83",
   "metadata": {},
   "outputs": [],
   "source": [
    "def answer_query(context: str, question: str, model: str = OPENAI_MODEL) -> str:\n",
    "    instruction = f\"You are a SysML v2 RAG assistant and you only answer model specific questions by the context.\"\n",
    "    input = f\"Given the following model context:\\n{context}\\nAnswer the question: {question}\"\n",
    "    resp = client.responses.create(\n",
    "        model=model,\n",
    "        instructions=instruction,\n",
    "        input=input,\n",
    "    )\n",
    "    \n",
    "    return resp.output_text"
   ]
  },
  {
   "cell_type": "code",
   "execution_count": 12,
   "id": "b6059aaf",
   "metadata": {},
   "outputs": [
    {
     "data": {
      "text/plain": [
       "{'ElectricVehicleModel/VehicleInstances/highPerformanceEV/battery': 'Label: battery, Type: http://example.org/sysml#PartUsage, Neighbors: [battery (None), http://example.org/sysml#ElectricVehicleModel/VehicleInstances/highPerformanceEV/battery/capacity (None), http://example.org/sysml#ElectricVehicleModel/VehicleInstances/highPerformanceEV/battery/voltage (None), http://example.org/sysml#PartUsage (None), http://example.org/sysml#ElectricVehicleModel/VehicleInstances/highPerformanceEV (None), ]',\n",
       " 'ElectricVehicleModel/VehicleInstances/cityCompactEV': 'Label: cityCompactEV, Type: http://example.org/sysml#PartUsage, Comment: Instance representing a compact city vehicle optimized for efficiency and lower power.\\r\\n, Neighbors: [Instance representing a compact city vehicle optimized for efficiency and lower power.\\r\\n (None), http://example.org/sysml#ElectricVehicleModel/PartDefinitions/ElectricVehicle (None), cityCompactEV (None), http://example.org/sysml#ElectricVehicleModel/PartDefinitions/ElectricVehicle/battery (None), http://example.org/sysml#ElectricVehicleModel/PartDefinitions/ElectricVehicle/cooling (None), http://example.org/sysml#ElectricVehicleModel/PartDefinitions/ElectricVehicle/motor (None), http://example.org/sysml#ElectricVehicleModel/VehicleInstances/cityCompactEV/battery (None), http://example.org/sysml#ElectricVehicleModel/VehicleInstances/cityCompactEV/cooling (None), http://example.org/sysml#ElectricVehicleModel/VehicleInstances/cityCompactEV/motor (None), http://example.org/sysml#PartUsage (None), http://example.org/sysml#ElectricVehicleModel/VehicleInstances (None), ]',\n",
       " 'ElectricVehicleModel/VehicleInstances/highPerformanceEV/motor/torque': 'Label: torque, Type: http://example.org/sysml#AttributeUsage, Neighbors: [http://example.org/sysml#ScalarValues/Real (None), torque (None), http://example.org/sysml#600.0 (None), http://example.org/sysml#AttributeUsage (None), http://example.org/sysml#ElectricVehicleModel/VehicleInstances/highPerformanceEV/motor (None), ]',\n",
       " 'ElectricVehicleModel/PartDefinitions/CoolingSystem': 'Label: CoolingSystem, Type: http://example.org/sysml#PartDefinition, Comment: This part represents the cooling system responsible for thermal regulation.\\r\\nIt includes an attribute indicating coolant temperature.\\r\\n, Neighbors: [This part represents the cooling system responsible for thermal regulation.\\r\\nIt includes an attribute indicating coolant temperature.\\r\\n (None), CoolingSystem (None), http://example.org/sysml#ElectricVehicleModel/PartDefinitions/CoolingSystem/coolantTemp (None), http://example.org/sysml#PartDefinition (None), http://example.org/sysml#ElectricVehicleModel/VehicleInstances (None), http://example.org/sysml#ElectricVehicleModel/PartDefinitions (None), http://example.org/sysml#ElectricVehicleModel/PartDefinitions/ElectricVehicle/cooling (None), ]',\n",
       " 'ElectricVehicleModel/PartDefinitions/ElectricVehicle/battery': 'Label: battery, Type: http://example.org/sysml#PartUsage, Neighbors: [http://example.org/sysml#ElectricVehicleModel/PartDefinitions/Battery (None), battery (None), http://example.org/sysml#ElectricVehicleModel/PartDefinitions/Battery/capacity (None), http://example.org/sysml#ElectricVehicleModel/PartDefinitions/Battery/voltage (None), http://example.org/sysml#PartUsage (None), http://example.org/sysml#ElectricVehicleModel/VehicleInstances/baseModelVehicle (None), http://example.org/sysml#ElectricVehicleModel/VehicleInstances/cityCompactEV (None), http://example.org/sysml#ElectricVehicleModel/VehicleInstances/highPerformanceEV (None), http://example.org/sysml#ElectricVehicleModel/PartDefinitions/ElectricVehicle (None), ]',\n",
       " 'ElectricVehicleModel/VehicleInstances/cityCompactEV/battery/voltage': 'Label: voltage, Type: http://example.org/sysml#AttributeUsage, Neighbors: [http://example.org/sysml#ScalarValues/Real (None), voltage (None), http://example.org/sysml#350.0 (None), http://example.org/sysml#AttributeUsage (None), http://example.org/sysml#ElectricVehicleModel/VehicleInstances/cityCompactEV/battery (None), ]',\n",
       " 'ElectricVehicleModel/VehicleInstances/cityCompactEV/battery/capacity': 'Label: capacity, Type: http://example.org/sysml#AttributeUsage, Neighbors: [http://example.org/sysml#ScalarValues/Real (None), capacity (None), http://example.org/sysml#60.0 (None), http://example.org/sysml#AttributeUsage (None), http://example.org/sysml#ElectricVehicleModel/VehicleInstances/cityCompactEV/battery (None), ]',\n",
       " 'ElectricVehicleModel/VehicleInstances/highPerformanceEV/motor': 'Label: motor, Type: http://example.org/sysml#PartUsage, Neighbors: [motor (None), http://example.org/sysml#ElectricVehicleModel/VehicleInstances/highPerformanceEV/motor/efficiency (None), http://example.org/sysml#ElectricVehicleModel/VehicleInstances/highPerformanceEV/motor/torque (None), http://example.org/sysml#PartUsage (None), http://example.org/sysml#ElectricVehicleModel/VehicleInstances/highPerformanceEV (None), ]',\n",
       " 'ElectricVehicleModel/VehicleInstances/highPerformanceEV/battery/capacity': 'Label: capacity, Type: http://example.org/sysml#AttributeUsage, Neighbors: [http://example.org/sysml#ScalarValues/Real (None), capacity (None), http://example.org/sysml#100.0 (None), http://example.org/sysml#AttributeUsage (None), http://example.org/sysml#ElectricVehicleModel/VehicleInstances/highPerformanceEV/battery (None), ]',\n",
       " 'ElectricVehicleModel/PartDefinitions/Motor/efficiency': 'Label: efficiency, Type: http://example.org/sysml#AttributeUsage, Neighbors: [http://example.org/sysml#ScalarValues/Real (None), efficiency (None), http://example.org/sysml#AttributeUsage (None), http://example.org/sysml#ElectricVehicleModel/PartDefinitions/Motor (None), http://example.org/sysml#ElectricVehicleModel/PartDefinitions/ElectricVehicle/motor (None), ]',\n",
       " 'ElectricVehicleModel/VehicleInstances/cityCompactEV/motor/efficiency': 'Label: efficiency, Type: http://example.org/sysml#AttributeUsage, Neighbors: [http://example.org/sysml#ScalarValues/Real (None), efficiency (None), http://example.org/sysml#0.91 (None), http://example.org/sysml#AttributeUsage (None), http://example.org/sysml#ElectricVehicleModel/VehicleInstances/cityCompactEV/motor (None), ]',\n",
       " 'ElectricVehicleModel/VehicleInstances/baseModelVehicle/motor/efficiency': 'Label: efficiency, Type: http://example.org/sysml#AttributeUsage, Neighbors: [http://example.org/sysml#ScalarValues/Real (None), efficiency (None), http://example.org/sysml#0.93 (None), http://example.org/sysml#AttributeUsage (None), http://example.org/sysml#ElectricVehicleModel/VehicleInstances/baseModelVehicle/motor (None), ]',\n",
       " 'ElectricVehicleModel/VehicleInstances': 'Label: VehicleInstances, Type: http://example.org/sysml#Package, Neighbors: [http://example.org/sysml#ElectricVehicleModel/PartDefinitions (None), VehicleInstances (None), http://example.org/sysml#ElectricVehicleModel/PartDefinitions/Battery (None), http://example.org/sysml#ElectricVehicleModel/PartDefinitions/CoolingSystem (None), http://example.org/sysml#ElectricVehicleModel/PartDefinitions/ElectricVehicle (None), http://example.org/sysml#ElectricVehicleModel/PartDefinitions/Motor (None), http://example.org/sysml#ElectricVehicleModel/VehicleInstances/baseModelVehicle (None), http://example.org/sysml#ElectricVehicleModel/VehicleInstances/cityCompactEV (None), http://example.org/sysml#ElectricVehicleModel/VehicleInstances/highPerformanceEV (None), http://example.org/sysml#Package (None), http://example.org/sysml#ElectricVehicleModel (None), ]',\n",
       " 'ScalarValues/Real': 'Label: Real, Type: http://example.org/sysml#DataType, Neighbors: [Real (None), http://example.org/sysml#DataType (None), http://example.org/sysml#ElectricVehicleModel (None), http://example.org/sysml#ElectricVehicleModel/VehicleInstances/baseModelVehicle/battery/capacity (None), http://example.org/sysml#ElectricVehicleModel/VehicleInstances/baseModelVehicle/battery/voltage (None), http://example.org/sysml#ElectricVehicleModel/VehicleInstances/baseModelVehicle/cooling/coolantTemp (None), http://example.org/sysml#ElectricVehicleModel/VehicleInstances/baseModelVehicle/motor/efficiency (None), http://example.org/sysml#ElectricVehicleModel/VehicleInstances/baseModelVehicle/motor/torque (None), http://example.org/sysml#ElectricVehicleModel/VehicleInstances/cityCompactEV/battery/capacity (None), http://example.org/sysml#ElectricVehicleModel/VehicleInstances/cityCompactEV/battery/voltage (None), http://example.org/sysml#ElectricVehicleModel/VehicleInstances/cityCompactEV/cooling/coolantTemp (None), http://example.org/sysml#ElectricVehicleModel/VehicleInstances/cityCompactEV/motor/efficiency (None), http://example.org/sysml#ElectricVehicleModel/VehicleInstances/cityCompactEV/motor/torque (None), http://example.org/sysml#ElectricVehicleModel/VehicleInstances/highPerformanceEV/battery/capacity (None), http://example.org/sysml#ElectricVehicleModel/VehicleInstances/highPerformanceEV/battery/voltage (None), http://example.org/sysml#ElectricVehicleModel/VehicleInstances/highPerformanceEV/cooling/coolantTemp (None), http://example.org/sysml#ElectricVehicleModel/VehicleInstances/highPerformanceEV/motor/efficiency (None), http://example.org/sysml#ElectricVehicleModel/VehicleInstances/highPerformanceEV/motor/torque (None), http://example.org/sysml#ElectricVehicleModel/PartDefinitions/Battery/capacity (None), http://example.org/sysml#ElectricVehicleModel/PartDefinitions/Battery/voltage (None), http://example.org/sysml#ElectricVehicleModel/PartDefinitions/CoolingSystem/coolantTemp (None), http://example.org/sysml#ElectricVehicleModel/PartDefinitions/Motor/efficiency (None), http://example.org/sysml#ElectricVehicleModel/PartDefinitions/Motor/torque (None), ]',\n",
       " 'ElectricVehicleModel/VehicleInstances/baseModelVehicle/motor/torque': 'Label: torque, Type: http://example.org/sysml#AttributeUsage, Neighbors: [http://example.org/sysml#ScalarValues/Real (None), torque (None), http://example.org/sysml#450.0 (None), http://example.org/sysml#AttributeUsage (None), http://example.org/sysml#ElectricVehicleModel/VehicleInstances/baseModelVehicle/motor (None), ]',\n",
       " 'ElectricVehicleModel/VehicleInstances/highPerformanceEV/cooling': 'Label: cooling, Type: http://example.org/sysml#PartUsage, Neighbors: [cooling (None), http://example.org/sysml#ElectricVehicleModel/VehicleInstances/highPerformanceEV/cooling/coolantTemp (None), http://example.org/sysml#PartUsage (None), http://example.org/sysml#ElectricVehicleModel/VehicleInstances/highPerformanceEV (None), ]',\n",
       " 'ElectricVehicleModel/VehicleInstances/baseModelVehicle/battery/capacity': 'Label: capacity, Type: http://example.org/sysml#AttributeUsage, Neighbors: [http://example.org/sysml#ScalarValues/Real (None), capacity (None), http://example.org/sysml#85.0 (None), http://example.org/sysml#AttributeUsage (None), http://example.org/sysml#ElectricVehicleModel/VehicleInstances/baseModelVehicle/battery (None), ]',\n",
       " 'ElectricVehicleModel/VehicleInstances/baseModelVehicle/battery': 'Label: battery, Type: http://example.org/sysml#PartUsage, Neighbors: [battery (None), http://example.org/sysml#ElectricVehicleModel/VehicleInstances/baseModelVehicle/battery/capacity (None), http://example.org/sysml#ElectricVehicleModel/VehicleInstances/baseModelVehicle/battery/voltage (None), http://example.org/sysml#PartUsage (None), http://example.org/sysml#ElectricVehicleModel/VehicleInstances/baseModelVehicle (None), ]',\n",
       " 'ElectricVehicleModel/VehicleInstances/baseModelVehicle/cooling/coolantTemp': 'Label: coolantTemp, Type: http://example.org/sysml#AttributeUsage, Neighbors: [http://example.org/sysml#ScalarValues/Real (None), coolantTemp (None), http://example.org/sysml#22.0 (None), http://example.org/sysml#AttributeUsage (None), http://example.org/sysml#ElectricVehicleModel/VehicleInstances/baseModelVehicle/cooling (None), ]',\n",
       " 'ElectricVehicleModel/VehicleInstances/highPerformanceEV': 'Label: highPerformanceEV, Type: http://example.org/sysml#PartUsage, Comment: Instance representing a high-performance electric vehicle with upgraded battery and motor.\\r\\n, Neighbors: [Instance representing a high-performance electric vehicle with upgraded battery and motor.\\r\\n (None), http://example.org/sysml#ElectricVehicleModel/PartDefinitions/ElectricVehicle (None), highPerformanceEV (None), http://example.org/sysml#ElectricVehicleModel/PartDefinitions/ElectricVehicle/battery (None), http://example.org/sysml#ElectricVehicleModel/PartDefinitions/ElectricVehicle/cooling (None), http://example.org/sysml#ElectricVehicleModel/PartDefinitions/ElectricVehicle/motor (None), http://example.org/sysml#ElectricVehicleModel/VehicleInstances/highPerformanceEV/battery (None), http://example.org/sysml#ElectricVehicleModel/VehicleInstances/highPerformanceEV/cooling (None), http://example.org/sysml#ElectricVehicleModel/VehicleInstances/highPerformanceEV/motor (None), http://example.org/sysml#PartUsage (None), http://example.org/sysml#ElectricVehicleModel/VehicleInstances (None), ]',\n",
       " 'ElectricVehicleModel/PartDefinitions': 'Label: PartDefinitions, Type: http://example.org/sysml#Package, Neighbors: [PartDefinitions (None), http://example.org/sysml#ElectricVehicleModel/PartDefinitions/Battery (None), http://example.org/sysml#ElectricVehicleModel/PartDefinitions/CoolingSystem (None), http://example.org/sysml#ElectricVehicleModel/PartDefinitions/ElectricVehicle (None), http://example.org/sysml#ElectricVehicleModel/PartDefinitions/Motor (None), http://example.org/sysml#Package (None), http://example.org/sysml#ElectricVehicleModel (None), http://example.org/sysml#ElectricVehicleModel/VehicleInstances (None), ]',\n",
       " 'ElectricVehicleModel/PartDefinitions/Battery/capacity': 'Label: capacity, Type: http://example.org/sysml#AttributeUsage, Neighbors: [http://example.org/sysml#ScalarValues/Real (None), capacity (None), http://example.org/sysml#AttributeUsage (None), http://example.org/sysml#ElectricVehicleModel/PartDefinitions/Battery (None), http://example.org/sysml#ElectricVehicleModel/PartDefinitions/ElectricVehicle/battery (None), ]',\n",
       " 'ElectricVehicleModel/VehicleInstances/cityCompactEV/motor/torque': 'Label: torque, Type: http://example.org/sysml#AttributeUsage, Neighbors: [http://example.org/sysml#ScalarValues/Real (None), torque (None), http://example.org/sysml#300.0 (None), http://example.org/sysml#AttributeUsage (None), http://example.org/sysml#ElectricVehicleModel/VehicleInstances/cityCompactEV/motor (None), ]',\n",
       " 'ElectricVehicleModel/VehicleInstances/highPerformanceEV/battery/voltage': 'Label: voltage, Type: http://example.org/sysml#AttributeUsage, Neighbors: [http://example.org/sysml#ScalarValues/Real (None), voltage (None), http://example.org/sysml#450.0 (None), http://example.org/sysml#AttributeUsage (None), http://example.org/sysml#ElectricVehicleModel/VehicleInstances/highPerformanceEV/battery (None), ]',\n",
       " 'ElectricVehicleModel/VehicleInstances/baseModelVehicle/motor': 'Label: motor, Type: http://example.org/sysml#PartUsage, Neighbors: [motor (None), http://example.org/sysml#ElectricVehicleModel/VehicleInstances/baseModelVehicle/motor/efficiency (None), http://example.org/sysml#ElectricVehicleModel/VehicleInstances/baseModelVehicle/motor/torque (None), http://example.org/sysml#PartUsage (None), http://example.org/sysml#ElectricVehicleModel/VehicleInstances/baseModelVehicle (None), ]',\n",
       " 'ElectricVehicleModel/PartDefinitions/Motor': 'Label: Motor, Type: http://example.org/sysml#PartDefinition, Comment: This part defines an electric motor.\\r\\nAttributes include torque and efficiency, used for performance evaluation.\\r\\n, Neighbors: [This part defines an electric motor.\\r\\nAttributes include torque and efficiency, used for performance evaluation.\\r\\n (None), Motor (None), http://example.org/sysml#ElectricVehicleModel/PartDefinitions/Motor/efficiency (None), http://example.org/sysml#ElectricVehicleModel/PartDefinitions/Motor/torque (None), http://example.org/sysml#PartDefinition (None), http://example.org/sysml#ElectricVehicleModel/VehicleInstances (None), http://example.org/sysml#ElectricVehicleModel/PartDefinitions (None), http://example.org/sysml#ElectricVehicleModel/PartDefinitions/ElectricVehicle/motor (None), ]',\n",
       " 'ElectricVehicleModel/PartDefinitions/Battery/voltage': 'Label: voltage, Type: http://example.org/sysml#AttributeUsage, Neighbors: [http://example.org/sysml#ScalarValues/Real (None), voltage (None), http://example.org/sysml#AttributeUsage (None), http://example.org/sysml#ElectricVehicleModel/PartDefinitions/Battery (None), http://example.org/sysml#ElectricVehicleModel/PartDefinitions/ElectricVehicle/battery (None), ]',\n",
       " 'ElectricVehicleModel/VehicleInstances/baseModelVehicle/cooling': 'Label: cooling, Type: http://example.org/sysml#PartUsage, Neighbors: [cooling (None), http://example.org/sysml#ElectricVehicleModel/VehicleInstances/baseModelVehicle/cooling/coolantTemp (None), http://example.org/sysml#PartUsage (None), http://example.org/sysml#ElectricVehicleModel/VehicleInstances/baseModelVehicle (None), ]',\n",
       " 'ElectricVehicleModel/VehicleInstances/highPerformanceEV/motor/efficiency': 'Label: efficiency, Type: http://example.org/sysml#AttributeUsage, Neighbors: [http://example.org/sysml#ScalarValues/Real (None), efficiency (None), http://example.org/sysml#0.96 (None), http://example.org/sysml#AttributeUsage (None), http://example.org/sysml#ElectricVehicleModel/VehicleInstances/highPerformanceEV/motor (None), ]',\n",
       " 'ElectricVehicleModel/VehicleInstances/cityCompactEV/motor': 'Label: motor, Type: http://example.org/sysml#PartUsage, Neighbors: [motor (None), http://example.org/sysml#ElectricVehicleModel/VehicleInstances/cityCompactEV/motor/efficiency (None), http://example.org/sysml#ElectricVehicleModel/VehicleInstances/cityCompactEV/motor/torque (None), http://example.org/sysml#PartUsage (None), http://example.org/sysml#ElectricVehicleModel/VehicleInstances/cityCompactEV (None), ]',\n",
       " 'ElectricVehicleModel/PartDefinitions/Battery': 'Label: Battery, Type: http://example.org/sysml#PartDefinition, Comment: This part represents a battery component, storing electric energy.\\r\\nIt includes attributes for voltage and charge capacity. \\r\\n, Neighbors: [This part represents a battery component, storing electric energy.\\r\\nIt includes attributes for voltage and charge capacity. \\r\\n (None), Battery (None), http://example.org/sysml#ElectricVehicleModel/PartDefinitions/Battery/capacity (None), http://example.org/sysml#ElectricVehicleModel/PartDefinitions/Battery/voltage (None), http://example.org/sysml#PartDefinition (None), http://example.org/sysml#ElectricVehicleModel/VehicleInstances (None), http://example.org/sysml#ElectricVehicleModel/PartDefinitions (None), http://example.org/sysml#ElectricVehicleModel/PartDefinitions/ElectricVehicle/battery (None), ]',\n",
       " 'ElectricVehicleModel/VehicleInstances/cityCompactEV/battery': 'Label: battery, Type: http://example.org/sysml#PartUsage, Neighbors: [battery (None), http://example.org/sysml#ElectricVehicleModel/VehicleInstances/cityCompactEV/battery/capacity (None), http://example.org/sysml#ElectricVehicleModel/VehicleInstances/cityCompactEV/battery/voltage (None), http://example.org/sysml#PartUsage (None), http://example.org/sysml#ElectricVehicleModel/VehicleInstances/cityCompactEV (None), ]',\n",
       " 'ElectricVehicleModel': 'Label: ElectricVehicleModel, Type: http://example.org/sysml#Package, Neighbors: [http://example.org/sysml#ScalarValues (None), ElectricVehicleModel (None), http://example.org/sysml#ElectricVehicleModel/PartDefinitions (None), http://example.org/sysml#ElectricVehicleModel/VehicleInstances (None), http://example.org/sysml#ScalarValues/Real (None), http://example.org/sysml#Package (None), ]',\n",
       " 'ElectricVehicleModel/VehicleInstances/highPerformanceEV/cooling/coolantTemp': 'Label: coolantTemp, Type: http://example.org/sysml#AttributeUsage, Neighbors: [http://example.org/sysml#ScalarValues/Real (None), coolantTemp (None), http://example.org/sysml#20.0 (None), http://example.org/sysml#AttributeUsage (None), http://example.org/sysml#ElectricVehicleModel/VehicleInstances/highPerformanceEV/cooling (None), ]',\n",
       " 'ElectricVehicleModel/PartDefinitions/ElectricVehicle': \"Label: ElectricVehicle, Type: http://example.org/sysml#PartDefinition, Comment: This is a composite system definition representing a vehicles energy and cooling architecture.\\r\\nIt composes a battery, motor, and cooling system as internal parts.\\r\\n, Neighbors: [This is a composite system definition representing a vehicle's energy and cooling architecture.\\r\\nIt composes a battery, motor, and cooling system as internal parts.\\r\\n (None), ElectricVehicle (None), http://example.org/sysml#ElectricVehicleModel/PartDefinitions/ElectricVehicle/battery (None), http://example.org/sysml#ElectricVehicleModel/PartDefinitions/ElectricVehicle/cooling (None), http://example.org/sysml#ElectricVehicleModel/PartDefinitions/ElectricVehicle/motor (None), http://example.org/sysml#PartDefinition (None), http://example.org/sysml#ElectricVehicleModel/VehicleInstances (None), http://example.org/sysml#ElectricVehicleModel/VehicleInstances/baseModelVehicle (None), http://example.org/sysml#ElectricVehicleModel/VehicleInstances/cityCompactEV (None), http://example.org/sysml#ElectricVehicleModel/VehicleInstances/highPerformanceEV (None), http://example.org/sysml#ElectricVehicleModel/PartDefinitions (None), ]\",\n",
       " 'ElectricVehicleModel/PartDefinitions/Motor/torque': 'Label: torque, Type: http://example.org/sysml#AttributeUsage, Neighbors: [http://example.org/sysml#ScalarValues/Real (None), torque (None), http://example.org/sysml#AttributeUsage (None), http://example.org/sysml#ElectricVehicleModel/PartDefinitions/Motor (None), http://example.org/sysml#ElectricVehicleModel/PartDefinitions/ElectricVehicle/motor (None), ]',\n",
       " 'ElectricVehicleModel/VehicleInstances/baseModelVehicle': 'Label: baseModelVehicle, Type: http://example.org/sysml#PartUsage, Comment: Instance representing a standard electric vehicle configuration.\\r\\n, Neighbors: [Instance representing a standard electric vehicle configuration.\\r\\n (None), http://example.org/sysml#ElectricVehicleModel/PartDefinitions/ElectricVehicle (None), baseModelVehicle (None), http://example.org/sysml#ElectricVehicleModel/PartDefinitions/ElectricVehicle/battery (None), http://example.org/sysml#ElectricVehicleModel/PartDefinitions/ElectricVehicle/cooling (None), http://example.org/sysml#ElectricVehicleModel/PartDefinitions/ElectricVehicle/motor (None), http://example.org/sysml#ElectricVehicleModel/VehicleInstances/baseModelVehicle/battery (None), http://example.org/sysml#ElectricVehicleModel/VehicleInstances/baseModelVehicle/cooling (None), http://example.org/sysml#ElectricVehicleModel/VehicleInstances/baseModelVehicle/motor (None), http://example.org/sysml#PartUsage (None), http://example.org/sysml#ElectricVehicleModel/VehicleInstances (None), ]',\n",
       " 'ElectricVehicleModel/PartDefinitions/CoolingSystem/coolantTemp': 'Label: coolantTemp, Type: http://example.org/sysml#AttributeUsage, Neighbors: [http://example.org/sysml#ScalarValues/Real (None), coolantTemp (None), http://example.org/sysml#AttributeUsage (None), http://example.org/sysml#ElectricVehicleModel/PartDefinitions/CoolingSystem (None), http://example.org/sysml#ElectricVehicleModel/PartDefinitions/ElectricVehicle/cooling (None), ]',\n",
       " 'ElectricVehicleModel/VehicleInstances/cityCompactEV/cooling/coolantTemp': 'Label: coolantTemp, Type: http://example.org/sysml#AttributeUsage, Neighbors: [http://example.org/sysml#ScalarValues/Real (None), coolantTemp (None), http://example.org/sysml#25.0 (None), http://example.org/sysml#AttributeUsage (None), http://example.org/sysml#ElectricVehicleModel/VehicleInstances/cityCompactEV/cooling (None), ]',\n",
       " 'ElectricVehicleModel/PartDefinitions/ElectricVehicle/motor': 'Label: motor, Type: http://example.org/sysml#PartUsage, Neighbors: [http://example.org/sysml#ElectricVehicleModel/PartDefinitions/Motor (None), motor (None), http://example.org/sysml#ElectricVehicleModel/PartDefinitions/Motor/efficiency (None), http://example.org/sysml#ElectricVehicleModel/PartDefinitions/Motor/torque (None), http://example.org/sysml#PartUsage (None), http://example.org/sysml#ElectricVehicleModel/VehicleInstances/baseModelVehicle (None), http://example.org/sysml#ElectricVehicleModel/VehicleInstances/cityCompactEV (None), http://example.org/sysml#ElectricVehicleModel/VehicleInstances/highPerformanceEV (None), http://example.org/sysml#ElectricVehicleModel/PartDefinitions/ElectricVehicle (None), ]',\n",
       " 'ElectricVehicleModel/VehicleInstances/cityCompactEV/cooling': 'Label: cooling, Type: http://example.org/sysml#PartUsage, Neighbors: [cooling (None), http://example.org/sysml#ElectricVehicleModel/VehicleInstances/cityCompactEV/cooling/coolantTemp (None), http://example.org/sysml#PartUsage (None), http://example.org/sysml#ElectricVehicleModel/VehicleInstances/cityCompactEV (None), ]',\n",
       " 'ElectricVehicleModel/PartDefinitions/ElectricVehicle/cooling': 'Label: cooling, Type: http://example.org/sysml#PartUsage, Neighbors: [http://example.org/sysml#ElectricVehicleModel/PartDefinitions/CoolingSystem (None), cooling (None), http://example.org/sysml#ElectricVehicleModel/PartDefinitions/CoolingSystem/coolantTemp (None), http://example.org/sysml#PartUsage (None), http://example.org/sysml#ElectricVehicleModel/VehicleInstances/baseModelVehicle (None), http://example.org/sysml#ElectricVehicleModel/VehicleInstances/cityCompactEV (None), http://example.org/sysml#ElectricVehicleModel/VehicleInstances/highPerformanceEV (None), http://example.org/sysml#ElectricVehicleModel/PartDefinitions/ElectricVehicle (None), ]',\n",
       " 'ElectricVehicleModel/VehicleInstances/baseModelVehicle/battery/voltage': 'Label: voltage, Type: http://example.org/sysml#AttributeUsage, Neighbors: [http://example.org/sysml#ScalarValues/Real (None), voltage (None), http://example.org/sysml#400.0 (None), http://example.org/sysml#AttributeUsage (None), http://example.org/sysml#ElectricVehicleModel/VehicleInstances/baseModelVehicle/battery (None), ]'}"
      ]
     },
     "execution_count": 12,
     "metadata": {},
     "output_type": "execute_result"
    }
   ],
   "source": [
    "g = load_graph(TTL_PATH)\n",
    "snippets = extract_snippets(g)\n",
    "\n",
    "snippets"
   ]
  },
  {
   "cell_type": "code",
   "execution_count": 13,
   "id": "ed48d488",
   "metadata": {},
   "outputs": [],
   "source": [
    "g = load_graph(TTL_PATH)\n",
    "\n",
    "# Extract snippets\n",
    "snippets = extract_snippets(g)\n",
    "\n",
    "# Build or load vector index\n",
    "try:\n",
    "    model, index, uris = build_vector_index(snippets, EMBEDDING_MODEL, FAISS_INDEX_PATH)\n",
    "except Exception:\n",
    "    # load existing\n",
    "    model = SentenceTransformer(EMBEDDING_MODEL)\n",
    "    index = faiss.read_index(FAISS_INDEX_PATH)\n",
    "    uris = list(snippets.keys())"
   ]
  },
  {
   "cell_type": "code",
   "execution_count": 14,
   "id": "ad8fa1f8",
   "metadata": {},
   "outputs": [
    {
     "data": {
      "text/plain": [
       "43"
      ]
     },
     "execution_count": 14,
     "metadata": {},
     "output_type": "execute_result"
    }
   ],
   "source": [
    "# count all embeddings, and map them back to a string to count the byte usage\n",
    "embeddings = model.encode(list(snippets.values()), convert_to_numpy=True)\n",
    "embeddings = embeddings / np.linalg.norm(embeddings, axis=1, keepdims=True)\n",
    "\n",
    "len(uris)\n"
   ]
  },
  {
   "cell_type": "code",
   "execution_count": 15,
   "id": "b5dca4a2",
   "metadata": {},
   "outputs": [
    {
     "name": "stdout",
     "output_type": "stream",
     "text": [
      "Context:\n",
      "\n",
      "\n",
      "Total bytes of context: 0 bytes\n",
      "\n",
      "Number of retrieved elements: 14\n",
      "\n"
     ]
    }
   ],
   "source": [
    "question = \"What is the the high performance electric vehicle for?\"\n",
    "top_uris = retrieve_nodes(question, model, index, uris, threshold=0.35, sort=True)\n",
    "# Fetch subgraph\n",
    "sub = fetch_subgraph(top_uris, g)\n",
    "context = serialize_subgraph(sub)\n",
    "\n",
    "print(f\"Context:\\n{context}\\n\")\n",
    "print(f\"Total bytes of context: {len(context.encode('utf-8'))} bytes\\n\")\n",
    "print(f\"Number of retrieved elements: {len(top_uris)}\\n\")"
   ]
  },
  {
   "cell_type": "code",
   "execution_count": 179,
   "id": "8c5a5bec",
   "metadata": {},
   "outputs": [
    {
     "data": {
      "text/plain": [
       "10888"
      ]
     },
     "execution_count": 179,
     "metadata": {},
     "output_type": "execute_result"
    }
   ],
   "source": [
    "len(context)"
   ]
  },
  {
   "cell_type": "code",
   "execution_count": 180,
   "id": "d889c495",
   "metadata": {},
   "outputs": [
    {
     "name": "stdout",
     "output_type": "stream",
     "text": [
      "Answer:\n",
      " Based on the model context, the high performance electric vehicle is represented by the instance **ElectricVehicleModel/VehicleInstances/highPerformanceEV**. This instance is described with the following comment:\n",
      "\n",
      "> Instance representing a high-performance electric vehicle with upgraded battery and motor.\n",
      "\n",
      "Therefore, the **high performance electric vehicle** in this model is intended for scenarios where higher battery capacity and higher motor performance (as indicated by attributes such as increased efficiency and potentially higher torque) are required compared to other vehicle instances like the city compact EV. It is specifically modeled to represent a vehicle variant focused on delivering enhanced performance, which may include faster acceleration, longer range, or greater power output.\n"
     ]
    }
   ],
   "source": [
    "answer = answer_query(context, question)\n",
    "print(\"Answer:\\n\", answer)"
   ]
  },
  {
   "cell_type": "markdown",
   "id": "a81acb79",
   "metadata": {},
   "source": [
    "### Evaluation\n",
    "- Precision\n",
    "- Recall\n",
    "- F1 Score\n",
    "- Coverage of Available Context\n",
    "- Coverage of Sys"
   ]
  },
  {
   "cell_type": "code",
   "execution_count": 170,
   "id": "a5db43f5",
   "metadata": {},
   "outputs": [],
   "source": [
    "retrieved_important_elements = 3\n",
    "missed_important_elements = 0"
   ]
  },
  {
   "cell_type": "code",
   "execution_count": null,
   "id": "3ece5926",
   "metadata": {},
   "outputs": [
    {
     "name": "stdout",
     "output_type": "stream",
     "text": [
      "Precision,Recall,F1,Coverage_Available,Coverage_Model\n",
      "0.103,1.000,0.188,4.319,4.603\n"
     ]
    }
   ],
   "source": [
    "sysml_model_bytes = 3354\n",
    "total_context_bytes = uris_bytes = sum(len(uri.encode('utf-8')) for uri in uris)\n",
    "total_context_elements = len(uris)\n",
    "\n",
    "total_retrieved_bytes = len(context.encode('utf-8'))\n",
    "total_retrieved_elements = len(top_uris)\n",
    "\n",
    "# --- Metric definitions ---\n",
    "def precision(relevant_retrieved: int, total_retrieved: int) -> float:\n",
    "    \"\"\"Precision: fraction of retrieved entries that are relevant.\"\"\"\n",
    "    if total_retrieved == 0:\n",
    "        return 0.0\n",
    "    return relevant_retrieved / total_retrieved\n",
    "\n",
    "def recall(relevant_retrieved: int, false_negatives: int) -> float:\n",
    "    \"\"\"Recall: fraction of truly relevant entries that were retrieved.\n",
    "    total_relevant = retrieved_relevant + missed_important (false negatives)\n",
    "    \"\"\"\n",
    "    total_relevant = relevant_retrieved + false_negatives\n",
    "    if total_relevant == 0:\n",
    "        return 0.0\n",
    "    return relevant_retrieved / total_relevant\n",
    "\n",
    "def f1_score(p: float, r: float) -> float:\n",
    "    \"\"\"F1-score: harmonic mean of precision and recall.\"\"\"\n",
    "    if p + r == 0:\n",
    "        return 0.0\n",
    "    return 2 * (p * r) / (p + r)\n",
    "\n",
    "def coverage_available(retrieved_bytes: int, total_bytes: int) -> float:\n",
    "    \"\"\"Cₐ: fraction of the total corpus (bytes) retrieved.\"\"\"\n",
    "    if total_bytes == 0:\n",
    "        return 0.0\n",
    "    return retrieved_bytes / total_bytes\n",
    "\n",
    "def coverage_model(retrieved_bytes: int, model_bytes: int) -> float:\n",
    "    \"\"\"Cₘ: fraction of the SysML v2 model (bytes) retrieved.\"\"\"\n",
    "    if model_bytes == 0:\n",
    "        return 0.0\n",
    "    return retrieved_bytes / model_bytes\n",
    "\n",
    "P  = precision(retrieved_important_elements, total_retrieved_elements)\n",
    "R  = recall   (retrieved_important_elements, missed_important_elements)\n",
    "F1 = f1_score (P, R)\n",
    "Ca = coverage_available(total_retrieved_bytes, total_context_bytes)\n",
    "Cm = coverage_model   (total_retrieved_bytes, sysml_model_bytes)\n",
    "\n",
    "print(\"Precision,Recall,F1,Coverage_Available,Coverage_Model\")\n",
    "print(f\"{P:.3f},{R:.3f},{F1:.3f},{Ca:.3f},{Cm:.3f}\")\n"
   ]
  }
 ],
 "metadata": {
  "kernelspec": {
   "display_name": "sysml",
   "language": "python",
   "name": "python3"
  },
  "language_info": {
   "codemirror_mode": {
    "name": "ipython",
    "version": 3
   },
   "file_extension": ".py",
   "mimetype": "text/x-python",
   "name": "python",
   "nbconvert_exporter": "python",
   "pygments_lexer": "ipython3",
   "version": "3.13.2"
  }
 },
 "nbformat": 4,
 "nbformat_minor": 5
}
